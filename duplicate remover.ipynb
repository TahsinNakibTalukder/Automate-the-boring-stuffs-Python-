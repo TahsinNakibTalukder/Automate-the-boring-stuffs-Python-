{
 "cells": [
  {
   "cell_type": "markdown",
   "metadata": {},
   "source": [
    "### duplicate element removal from a list"
   ]
  },
  {
   "cell_type": "code",
   "execution_count": 3,
   "metadata": {},
   "outputs": [
    {
     "name": "stdout",
     "output_type": "stream",
     "text": [
      "[1, 2, 3, 4, 5, 56, 6, 7, 8, 67, 78, 9, 34, 54]\n"
     ]
    }
   ],
   "source": [
    "list = [1,1,1,2,3,3,2,3,4,4,5,56,6,7,7,8,8,6,5,4,6,67,78,9,9,8,6,4,3,3,34,5,6,6,7,7,54,3,3]\n",
    "\n",
    "result = []\n",
    "for i in list:\n",
    "    if i not in result:\n",
    "        result.append(i)\n",
    "        \n",
    "print(result)"
   ]
  },
  {
   "cell_type": "code",
   "execution_count": null,
   "metadata": {},
   "outputs": [],
   "source": []
  }
 ],
 "metadata": {
  "kernelspec": {
   "display_name": "Python 3",
   "language": "python",
   "name": "python3"
  },
  "language_info": {
   "codemirror_mode": {
    "name": "ipython",
    "version": 3
   },
   "file_extension": ".py",
   "mimetype": "text/x-python",
   "name": "python",
   "nbconvert_exporter": "python",
   "pygments_lexer": "ipython3",
   "version": "3.8.5"
  }
 },
 "nbformat": 4,
 "nbformat_minor": 4
}
